{
  "cells": [
    {
      "cell_type": "raw",
      "metadata": {},
      "source": [
        "---\n",
        "title: 여행을 선택하는 이유\n",
        "---"
      ],
      "id": "c5f6b6f2"
    },
    {
      "cell_type": "markdown",
      "metadata": {},
      "source": [
        "## 전처리\n",
        "### 파일 불러오기 및 변수 변경"
      ],
      "id": "07c25cf1"
    },
    {
      "cell_type": "code",
      "metadata": {},
      "source": [
        "import numpy as np\n",
        "import pandas as pd\n",
        "import matplotlib.pyplot as plt\n",
        "\n",
        "# 파일 불러오기\n",
        "<<<<<<< HEAD\n",
        "df = pd.read_excel(\"C:/Users/USER/Documents/LS빅데이터스쿨/team3_project/data/select.xlsx\")\n",
        "\n",
        "=======\n",
        "\n",
        "df = pd.read_excel(\"C:/Users/USER/Documents/LS빅데이터스쿨/team3_project/data/select.xlsx\")\n",
        "df = pd.read_excel(\"./data/select.xlsx\")\n",
        ">>>>>>> 307c9c86ccd597e82f616e94961c2fe231e9b5d6\n",
        "df.head()\n",
        "\n",
        "# 변수 변경\n",
        "df = df.rename(columns = {\"소계\" : \"total\", \"남자\" : \"male\", \"여자\" : \"female\"})\n",
        "df.head()"
      ],
      "id": "81465035",
      "execution_count": null,
      "outputs": []
    },
    {
      "cell_type": "markdown",
      "metadata": {},
      "source": [
        "### 연령대 변수 추가 및 삭제"
      ],
      "id": "43d5e7a6"
    },
    {
      "cell_type": "code",
      "metadata": {},
      "source": [
        "# 연령대\n",
        "df[\"teens\"] = df[\"15~19세\"]\n",
        "df[\"young_adults\"] = df[\"20대\"] + df[\"30대\"]\n",
        "df[\"middle_adults\"] = df[\"40대\"] + df[\"50대\"]\n",
        "df[\"senior\"] = df[\"60대\"] + df[\"70세 이상\"]\n",
        "\n",
        "#2018 각 값을 열의 합계로 나눈뒤 100을 곱하여 백분율 계산. 소수점 1까지 반올림\n",
        "df.loc[0:14, \"young_adults\"] = (df.loc[0:14, \"young_adults\"] / df.loc[0:14, \"young_adults\"].sum() * 100).round(1)\n",
        "df.loc[0:14, \"middle_adults\"] = (df.loc[0:14, \"middle_adults\"] / df.loc[0:14, \"middle_adults\"].sum() * 100).round(1)\n",
        "df.loc[0:14, \"senior\"] = (df.loc[0:14, \"senior\"] / df.loc[0:14, \"senior\"].sum() * 100).round(1)\n",
        "#2019\n",
        "df.loc[15:29, \"young_adults\"] = (df.loc[15:29, \"young_adults\"] / df.loc[15:29, \"young_adults\"].sum() * 100).round(1)\n",
        "df.loc[15:29, \"middle_adults\"] = (df.loc[15:29, \"middle_adults\"] / df.loc[15:29, \"middle_adults\"].sum() * 100).round(1)\n",
        "df.loc[15:29, \"senior\"] = (df.loc[15:29, \"senior\"] / df.loc[15:29, \"senior\"].sum() * 100).round(1)\n",
        "#2020\n",
        "df.loc[30:44, \"young_adults\"] = (df.loc[30:44, \"young_adults\"] / df.loc[30:44, \"young_adults\"].sum() * 100).round(1)\n",
        "df.loc[30:44, \"middle_adults\"] = (df.loc[30:44, \"middle_adults\"] / df.loc[30:44, \"middle_adults\"].sum() * 100).round(1)\n",
        "df.loc[30:44, \"senior\"] = (df.loc[30:44, \"senior\"] / df.loc[30:44, \"senior\"].sum() * 100).round(1)\n",
        "#2021\n",
        "df.loc[45:59, \"young_adults\"] = (df.loc[45:59, \"young_adults\"] / df.loc[45:59, \"young_adults\"].sum() * 100).round(1)\n",
        "df.loc[45:59, \"middle_adults\"] = (df.loc[45:59, \"middle_adults\"] / df.loc[45:59, \"middle_adults\"].sum() * 100).round(1)\n",
        "df.loc[45:59, \"senior\"] = (df.loc[45:59, \"senior\"] / df.loc[45:59, \"senior\"].sum() * 100).round(1)\n",
        "#2022\n",
        "df.loc[60:74, \"young_adults\"] = (df.loc[60:74, \"young_adults\"] / df.loc[60:74, \"young_adults\"].sum() * 100).round(1)\n",
        "df.loc[60:74, \"middle_adults\"] = (df.loc[60:74, \"middle_adults\"] / df.loc[60:74, \"middle_adults\"].sum() * 100).round(1)\n",
        "df.loc[60:74, \"senior\"] = (df.loc[60:74, \"senior\"] / df.loc[60:74, \"senior\"].sum() * 100).round(1)\n",
        "\n",
        "df = df.drop(['15~19세', '20대', '30대', '40대', '50대', '60대', '70세 이상'], axis=1)"
      ],
      "id": "bf79efc0",
      "execution_count": null,
      "outputs": []
    },
    {
      "cell_type": "markdown",
      "metadata": {},
      "source": [
        "### 월급 변수 추가 및 삭제"
      ],
      "id": "d2d067fb"
    },
    {
      "cell_type": "code",
      "metadata": {},
      "source": [
        "df[\"l_sal\"] = df[\"100만원 미만\"] + df[\"100~200만원 미만\"]\n",
        "df[\"m_sal\"] = df[\"200~300만원 미만\"] + df[\"300~400만원 미만\"] + df[\"400~500만원 미만\"]\n",
        "df[\"h_sal\"] = df[\"500~600만원 미만\"] + df[\"600만원 이상\"]\n",
        "#2018\n",
        "df.loc[0:14, \"l_sal\"] = (df.loc[0:14, \"l_sal\"] / df.loc[0:14, \"l_sal\"].sum() * 100).round(1)\n",
        "df.loc[0:14, \"m_sal\"] = (df.loc[0:14, \"m_sal\"] / df.loc[0:14, \"m_sal\"].sum() * 100).round(1)\n",
        "df.loc[0:14, \"h_sal\"] = (df.loc[0:14, \"h_sal\"] / df.loc[0:14, \"h_sal\"].sum() * 100).round(1)\n",
        "#2019\n",
        "df.loc[15:29, \"l_sal\"] = (df.loc[15:29, \"l_sal\"] / df.loc[15:29, \"l_sal\"].sum() * 100).round(1)\n",
        "df.loc[15:29, \"m_sal\"] = (df.loc[15:29, \"m_sal\"] / df.loc[15:29, \"m_sal\"].sum() * 100).round(1)\n",
        "df.loc[15:29, \"h_sal\"] = (df.loc[15:29, \"h_sal\"] / df.loc[15:29, \"h_sal\"].sum() * 100).round(1)\n",
        "#2020\n",
        "df.loc[30:44, \"l_sal\"] = (df.loc[30:44, \"l_sal\"] / df.loc[30:44, \"l_sal\"].sum() * 100).round(1)\n",
        "df.loc[30:44, \"m_sal\"] = (df.loc[30:44, \"m_sal\"] / df.loc[30:44, \"m_sal\"].sum() * 100).round(1)\n",
        "df.loc[30:44, \"h_sal\"] = (df.loc[30:44, \"h_sal\"] / df.loc[30:44, \"h_sal\"].sum() * 100).round(1)\n",
        "#2021\n",
        "df.loc[45:59, \"l_sal\"] = (df.loc[45:59, \"l_sal\"] / df.loc[45:59, \"l_sal\"].sum() * 100).round(1)\n",
        "df.loc[45:59, \"m_sal\"] = (df.loc[45:59, \"m_sal\"] / df.loc[45:59, \"m_sal\"].sum() * 100).round(1)\n",
        "df.loc[45:59, \"h_sal\"] = (df.loc[45:59, \"h_sal\"] / df.loc[45:59, \"h_sal\"].sum() * 100).round(1)\n",
        "#2022\n",
        "df.loc[60:74, \"l_sal\"] = (df.loc[60:74, \"l_sal\"] / df.loc[60:74, \"l_sal\"].sum() * 100).round(1)\n",
        "df.loc[60:74, \"m_sal\"] = (df.loc[60:74, \"m_sal\"] / df.loc[60:74, \"m_sal\"].sum() * 100).round(1)\n",
        "df.loc[60:74, \"h_sal\"] = (df.loc[60:74, \"h_sal\"] / df.loc[60:74, \"h_sal\"].sum() * 100).round(1)\n",
        "\n",
        "\n",
        "df = df.drop(['100만원 미만', '100~200만원 미만', '200~300만원 미만', '300~400만원 미만', '400~500만원 미만',\\\n",
        "                '500~600만원 미만', '600만원 이상'], axis=1)\n"
      ],
      "id": "cfbf9c44",
      "execution_count": null,
      "outputs": []
    },
    {
      "cell_type": "markdown",
      "metadata": {},
      "source": [
        "### 가구, 학벌, 무응답 rename"
      ],
      "id": "e74b4c6c"
    },
    {
      "cell_type": "code",
      "metadata": {},
      "source": [
        "# 가구\n",
        "df = df.rename(columns = { '1인' : 'per1',\n",
        "\t\t\t'2인' : 'per2',\n",
        "\t\t\t'3인이상' : 'per3+'})\n",
        "\n",
        "# 학벌\n",
        "df = df.rename(columns = { '초졸 이하' : 'elmt',\n",
        "\t\t\t '중학교' : 'mid',\n",
        "\t\t\t'고등학교' : 'high',\n",
        "\t\t\t'대학교이상' : 'univ+'})\n",
        "# 무응답 NR\n",
        "df = df.rename(columns = {\"무응답\" : \"nr\",\n",
        "                        \"시점\" : \"year\",\n",
        "                        \"항목\" : \"item\"})\n",
        "df.info()\n",
        "df.columns\n",
        "\n",
        "# 엑셀 파일로 내보내기\n",
        "df.to_excel('pre_select.xlsx', index=False)"
      ],
      "id": "a9cc786e",
      "execution_count": null,
      "outputs": []
    },
    {
      "cell_type": "markdown",
      "metadata": {},
      "source": [
        "<<<<<<< HEAD\n",
        "<<<<<<< HEAD\n",
        "=======\n",
        "-------------------------------------------------------------------------------\n",
        "=======\n",
        "\n",
        ">>>>>>> 307c9c86ccd597e82f616e94961c2fe231e9b5d6\n",
        "\n",
        "## 년도별 여행지 선택 5순위\n"
      ],
      "id": "1addfe6a"
    },
    {
      "cell_type": "code",
      "metadata": {},
      "source": [
        "import numpy as np\n",
        "import pandas as pd\n",
        "import matplotlib.pyplot as plt\n",
        "import plotly.express as px\n",
        "\n",
        "# 한글 설정\n",
        "plt.rcParams['font.family'] ='Malgun Gothic'\n",
        "plt.rcParams['axes.unicode_minus'] =False\n",
        "\n",
        "df = pd.read_excel(\"./pre_data/pre_select.xlsx\")\n",
        "df\n",
        "\n",
        "df_2018 = df.loc[0:14]\n",
        "df_2019 = df.loc[15:29]\n",
        "df_2020 = df.loc[30:44]\n",
        "df_2021 = df.loc[45:59]\n",
        "df_2022 = df.loc[60:74]\n",
        "\n",
        "total_2018 = df_2018.sort_values(\"total\", ascending = False).head()\n",
        "total_2019 = df_2019.sort_values(\"total\", ascending = False).head()\n",
        "total_2020 = df_2020.sort_values(\"total\", ascending = False).head()\n",
        "total_2021 = df_2021.sort_values(\"total\", ascending = False).head()\n",
        "total_2022 = df_2022.sort_values(\"total\", ascending = False).head()\n",
        "\n",
        "total_all = pd.concat([total_2018, total_2019, total_2020, total_2021, total_2022]).iloc[:, :3]\n",
        "total_all_pivot = total_all.pivot(index='year', columns='item', values='total')\n",
        "\n",
        "\n",
        "fig = px.bar(total_all_pivot, title='년도별 여행지 선택 5순위', labels={'value': '총합', 'year': '년도'})\n",
        "# 레이아웃 설정\n",
        "fig.update_layout(\n",
        "    xaxis_title='년도',\n",
        "    yaxis_title='총합',\n",
        "    legend_title_text='Item',\n",
        "    legend=dict(\n",
        "        x=1,  # x 위치 (1은 그래프의 가장 오른쪽)\n",
        "        y=1,  # y 위치 (1은 그래프의 가장 위쪽)\n",
        "        xanchor='left',  # x 기준점\n",
        "        yanchor='top'  # y 기준점\n",
        "    )\n",
        ")\n",
        "\n",
        "fig.show()"
      ],
      "id": "18b0bff2",
      "execution_count": null,
      "outputs": []
    },
    {
      "cell_type": "markdown",
      "metadata": {},
      "source": [
        "--------------------------------------------------------------------------------\n",
        "## 여행을 선택하는 이유\n"
      ],
      "id": "41a0cecd"
    },
    {
      "cell_type": "code",
      "metadata": {},
      "source": [
        "#선 그래프\n",
        "visualappeal = total_all.query(\"item == '볼거리 제공'\")\n",
        "Popularity = total_all.query(\"item == '여행지 지명도'\")\n",
        "time = total_all.query(\"item == '여행할 수 있는 시간'\")\n",
        "\n",
        "\n",
        "# 선 그래프 생성\n",
        "plt.figure(figsize=(10, 6))\n",
        "plt.plot(visualappeal[\"year\"], visualappeal[\"total\"], marker='o',label=\"볼거리 제공\")\n",
        "plt.plot(Popularity[\"year\"], Popularity[\"total\"], marker='o',label=\"여행지 지명도\")\n",
        "plt.plot(time[\"year\"], time[\"total\"], marker='o',label=\"여행할 수 있는 시간\")\n",
        "\n",
        "\n",
        "# 그래프에 제목과 축 레이블 추가\n",
        "plt.title(\"여행을 선택하는 이유 - 전체\")\n",
        "plt.xlabel(\"년도\")\n",
        "plt.ylabel(\"전체 %\")\n",
        "plt.legend(fontsize='x-small',loc='center left')\n",
        "plt.show()"
      ],
      "id": "e4b97349",
      "execution_count": null,
      "outputs": []
    }
  ],
  "metadata": {
    "kernelspec": {
      "name": "python3",
      "language": "python",
      "display_name": "Python 3 (ipykernel)"
    }
  },
  "nbformat": 4,
  "nbformat_minor": 5
}